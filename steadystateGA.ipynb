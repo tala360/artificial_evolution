{
 "cells": [
  {
   "cell_type": "code",
   "execution_count": 11,
   "metadata": {},
   "outputs": [],
   "source": [
    "import numpy as np\n",
    "import matplotlib.pyplot as plt \n",
    "from random import randint"
   ]
  },
  {
   "cell_type": "code",
   "execution_count": 12,
   "metadata": {},
   "outputs": [],
   "source": [
    "knapsack = 20\n",
    "weights = [3,2,4,5,8,9,10,1,6,7]\n",
    "benefits = [5,6,1,9,2,8,4,3,7,10]"
   ]
  },
  {
   "cell_type": "code",
   "execution_count": 13,
   "metadata": {},
   "outputs": [],
   "source": [
    "def fitness_genotype(genotype,benefits,weights,knapsack):\n",
    "    totalWeight = np.dot(genotype,weights)\n",
    "    totalBenefits = np.dot(genotype,benefits)\n",
    "    if totalWeight > knapsack:\n",
    "        return 0\n",
    "    else:\n",
    "        return totalBenefits"
   ]
  },
  {
   "cell_type": "code",
   "execution_count": 14,
   "metadata": {},
   "outputs": [],
   "source": [
    "def fitness(population,benefits,weights,popSize,knapsack):\n",
    "    fitnesses = []\n",
    "    for i in range(popSize):\n",
    "        if np.dot(population[i],weights)>knapsack:\n",
    "            fitnesses.append(0)\n",
    "        else:\n",
    "            fitnesses.append((np.dot(population[i],benefits)))\n",
    "    return fitnesses"
   ]
  },
  {
   "cell_type": "code",
   "execution_count": 15,
   "metadata": {},
   "outputs": [],
   "source": [
    "def mutation_genotype(genotype,mutation_rate):\n",
    "    for i,gene in enumerate(genotype):\n",
    "        n = np.random.rand()\n",
    "        #print(n)\n",
    "        if n <= mutation_rate:\n",
    "            r = randint(0,9)\n",
    "            if genotype[r] == 1:\n",
    "                genotype[r] = 0\n",
    "            else:\n",
    "                genotype[r] = 1\n",
    "    return genotype"
   ]
  },
  {
   "cell_type": "code",
   "execution_count": 16,
   "metadata": {},
   "outputs": [],
   "source": [
    "population = np.random.randint(0,2,size=(200,10))"
   ]
  },
  {
   "cell_type": "code",
   "execution_count": 20,
   "metadata": {},
   "outputs": [],
   "source": [
    "def optimise(gen,mutation_rate):\n",
    "    maxFitness = [0]\n",
    "    for i in range(gen):\n",
    "        popFitness = fitness(population,benefits,weights,200,knapsack)\n",
    "        randomIndex1 = randint(0,49)\n",
    "        randomIndex2 = randint(0,49)\n",
    "        genotype1 = population[randomIndex1]\n",
    "        #print(randomIndex1)\n",
    "        genotype2 = population[randomIndex2]\n",
    "        #print(genotype1)\n",
    "        fitnessG1 = fitness_genotype(genotype1,benefits,weights,knapsack)\n",
    "        #print(fitnessG1)\n",
    "        fitnessG2 = fitness_genotype(genotype2,benefits,weights,knapsack)\n",
    "        #print(fitnessG2)\n",
    "        if fitnessG1 > fitnessG2:\n",
    "            #tempG2 = genotype2\n",
    "            genotype2 = genotype1\n",
    "            population[randomIndex2] = mutation_genotype(genotype2,mutation_rate)\n",
    "        elif fitnessG2 > fitnessG1:\n",
    "            #tempG1 = genotype1\n",
    "            genotype1 = genotype2\n",
    "            population[randomIndex1] = mutation_genotype(genotype1,mutation_rate)\n",
    "        maxFitness.append(max(popFitness))\n",
    "    return maxFitness"
   ]
  },
  {
   "cell_type": "code",
   "execution_count": 18,
   "metadata": {},
   "outputs": [
    {
     "data": {
      "image/png": "[encoded data removed]",
      "text/plain": [
       "<Figure size 432x288 with 1 Axes>"
      ]
     },
     "metadata": {
      "needs_background": "light"
     },
     "output_type": "display_data"
    }
   ],
   "source": [
    "plt.plot(list(range(10001)),maxFitness)\n",
    "plt.show()"
   ]
  },
  {
   "cell_type": "code",
   "execution_count": 24,
   "metadata": {},
   "outputs": [
    {
     "data": {
      "image/png": "[encoded data removed]",
      "text/plain": [
       "<Figure size 432x288 with 1 Axes>"
      ]
     },
     "metadata": {
      "needs_background": "light"
     },
     "output_type": "display_data"
    }
   ],
   "source": [
    "x=optimise(1000,0.3)\n",
    "plt.plot(list(range(1001)),x)\n",
    "plt.show()"
   ]
  },
  {
   "cell_type": "code",
   "execution_count": 29,
   "metadata": {},
   "outputs": [
    {
     "data": {
      "image/png": "[encoded data removed]",
      "text/plain": [
       "<Figure size 432x288 with 1 Axes>"
      ]
     },
     "metadata": {
      "needs_background": "light"
     },
     "output_type": "display_data"
    }
   ],
   "source": [
    "y=optimise(10,0.1)\n",
    "plt.plot(list(range(11)),y)\n",
    "plt.show()"
   ]
  },
  {
   "cell_type": "code",
   "execution_count": null,
   "metadata": {},
   "outputs": [],
   "source": []
  }
 ],
 "metadata": {
  "kernelspec": {
   "display_name": "Python 3",
   "language": "python",
   "name": "python3"
  },
  "language_info": {
   "codemirror_mode": {
    "name": "ipython",
    "version": 3
   },
   "file_extension": ".py",
   "mimetype": "text/x-python",
   "name": "python",
   "nbconvert_exporter": "python",
   "pygments_lexer": "ipython3",
   "version": "3.7.4"
  }
 },
 "nbformat": 4,
 "nbformat_minor": 4
}
