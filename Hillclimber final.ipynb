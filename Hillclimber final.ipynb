{
 "cells": [
  {
   "cell_type": "code",
   "execution_count": 470,
   "metadata": {},
   "outputs": [],
   "source": [
    "import numpy as np\n",
    "import matplotlib.pyplot as plt "
   ]
  },
  {
   "cell_type": "code",
   "execution_count": 349,
   "metadata": {},
   "outputs": [],
   "source": [
    "# Initialise genotypes as random 1's and 0's.\n",
    "genotypes = np.random.randint(0,2,size=10)"
   ]
  },
  {
   "cell_type": "code",
   "execution_count": 350,
   "metadata": {},
   "outputs": [
    {
     "data": {
      "text/plain": [
       "array([1, 0, 1, 1, 1, 1, 0, 1, 1, 0])"
      ]
     },
     "execution_count": 350,
     "metadata": {},
     "output_type": "execute_result"
    }
   ],
   "source": [
    "genotypes"
   ]
  },
  {
   "cell_type": "code",
   "execution_count": 351,
   "metadata": {},
   "outputs": [],
   "source": [
    "# index[i][0] is the benefit, index[i][1] is the volume, where i = item\n",
    "values = np.array([[5,3],[6,2],[1,4],[9,5],[2,8],[8,9],[4,10],[3,1],[7,6],[10,7]])"
   ]
  },
  {
   "cell_type": "code",
   "execution_count": 352,
   "metadata": {},
   "outputs": [
    {
     "name": "stdout",
     "output_type": "stream",
     "text": [
      "4th item benefit: 9\n",
      "4th item volume: 5\n"
     ]
    }
   ],
   "source": [
    "# For example, the 4th item's volume and benefit are the following:\n",
    "print(\"4th item benefit:\",values[3][0])\n",
    "print(\"4th item volume:\",values[3][1])"
   ]
  },
  {
   "cell_type": "code",
   "execution_count": 353,
   "metadata": {},
   "outputs": [
    {
     "name": "stdout",
     "output_type": "stream",
     "text": [
      "0 1\n",
      "1 0\n",
      "2 1\n",
      "3 1\n",
      "4 1\n",
      "5 1\n",
      "6 0\n",
      "7 1\n",
      "8 1\n",
      "9 0\n"
     ]
    }
   ],
   "source": [
    "for i,gt in enumerate(genotypes):\n",
    "    print(i,gt)"
   ]
  },
  {
   "cell_type": "code",
   "execution_count": 354,
   "metadata": {},
   "outputs": [],
   "source": [
    "# Knapsack volume\n",
    "knapsack = 20"
   ]
  },
  {
   "cell_type": "code",
   "execution_count": 355,
   "metadata": {},
   "outputs": [],
   "source": [
    "# If the item is in the knapsack (1), add it to the list. If not (0), do nothing.\n",
    "def itemsInKnapsack(values,genotypes):\n",
    "    items = []\n",
    "    for i,gt in enumerate(genotypes):\n",
    "        if gt == 1:\n",
    "            items.append(values[i])\n",
    "    items = np.array(items)\n",
    "    return items"
   ]
  },
  {
   "cell_type": "code",
   "execution_count": 356,
   "metadata": {},
   "outputs": [
    {
     "data": {
      "text/plain": [
       "array([[5, 3],\n",
       "       [1, 4],\n",
       "       [9, 5],\n",
       "       [2, 8],\n",
       "       [8, 9],\n",
       "       [3, 1],\n",
       "       [7, 6]])"
      ]
     },
     "execution_count": 356,
     "metadata": {},
     "output_type": "execute_result"
    }
   ],
   "source": [
    "# Test it.\n",
    "items = itemsInKnapsack(values,genotypes)\n",
    "items"
   ]
  },
  {
   "cell_type": "code",
   "execution_count": 357,
   "metadata": {},
   "outputs": [],
   "source": [
    "# Now, calculate the total volume of the items in the knapsack.\n",
    "def totalVolume(gt,vals):\n",
    "    capacity = 0\n",
    "    for i,gene in enumerate(gt):\n",
    "        if gene == 1:\n",
    "            capacity += vals[i][1]\n",
    "    return capacity"
   ]
  },
  {
   "cell_type": "code",
   "execution_count": 358,
   "metadata": {},
   "outputs": [
    {
     "data": {
      "text/plain": [
       "36"
      ]
     },
     "execution_count": 358,
     "metadata": {},
     "output_type": "execute_result"
    }
   ],
   "source": [
    "# Test it\n",
    "totalVolume(genotypes,values)"
   ]
  },
  {
   "cell_type": "code",
   "execution_count": 359,
   "metadata": {},
   "outputs": [],
   "source": [
    "# Now, calculate the total benefit of the items in the knapsack\n",
    "def totalBenefit(gt,vals):\n",
    "    benefit = 0\n",
    "    for i,gene in enumerate(gt):\n",
    "        if gene == 1:\n",
    "            benefit += vals[i][0]\n",
    "    return benefit"
   ]
  },
  {
   "cell_type": "code",
   "execution_count": 360,
   "metadata": {},
   "outputs": [
    {
     "data": {
      "text/plain": [
       "35"
      ]
     },
     "execution_count": 360,
     "metadata": {},
     "output_type": "execute_result"
    }
   ],
   "source": [
    "# Test it\n",
    "totalBenefit(genotypes,values)"
   ]
  },
  {
   "cell_type": "code",
   "execution_count": 361,
   "metadata": {},
   "outputs": [],
   "source": [
    "# Mutation for changing the 1's and 0's\n",
    "def mutation(genotypes,mutation_rate):\n",
    "    for i,gene in enumerate(genotypes):\n",
    "        n = np.random.rand()\n",
    "        #print(n)\n",
    "        if n <= mutation_rate:\n",
    "            if genotypes[i] == 1:\n",
    "                genotypes[i] = 0\n",
    "            else:\n",
    "                genotypes[i] = 1\n",
    "    return genotypes"
   ]
  },
  {
   "cell_type": "code",
   "execution_count": 362,
   "metadata": {},
   "outputs": [
    {
     "data": {
      "text/plain": [
       "array([1, 0, 1, 1, 1, 1, 0, 1, 1, 0])"
      ]
     },
     "execution_count": 362,
     "metadata": {},
     "output_type": "execute_result"
    }
   ],
   "source": [
    "genotypes"
   ]
  },
  {
   "cell_type": "code",
   "execution_count": 373,
   "metadata": {},
   "outputs": [],
   "source": [
    "# If volume of items in the knapsack > 20, return 0. Otherwise, return the total benefit.\n",
    "def setup(vals,knapsack,genotypes,mutation_rate=0.1):\n",
    "    #items = itemsInKnapsack(vals,genotypes)\n",
    "    vol = totalVolume(genotypes,vals)\n",
    "    benefit = totalBenefit(genotypes,vals)\n",
    "    if vol <= knapsack:\n",
    "        return benefit,vol\n",
    "    else:\n",
    "        return setup(vals,knapsack,mutation(genotypes,mutation_rate),mutation_rate)"
   ]
  },
  {
   "cell_type": "code",
   "execution_count": 374,
   "metadata": {},
   "outputs": [
    {
     "data": {
      "text/plain": [
       "(12, 20)"
      ]
     },
     "execution_count": 374,
     "metadata": {},
     "output_type": "execute_result"
    }
   ],
   "source": [
    "# Test it\n",
    "setup(values,knapsack,genotypes)"
   ]
  },
  {
   "cell_type": "code",
   "execution_count": 432,
   "metadata": {},
   "outputs": [],
   "source": [
    "# Now for the actual fitness function\n",
    "def fitness(vals,genotypes,mutation_rate,hillclimbers,knapsack):\n",
    "    #items = itemsInKnapsack(vals,genotypes)\n",
    "    initial = setup(vals,knapsack,genotypes)\n",
    "    fit = []\n",
    "    for i in range(hillclimbers):\n",
    "        new_gt = mutation(genotypes,mutation_rate)\n",
    "        new_ft = setup(vals,knapsack,new_gt)\n",
    "        if new_ft[0] > initial[0]:\n",
    "            initial = new_ft\n",
    "            fit.append(initial)\n",
    "        else:\n",
    "            initial = initial\n",
    "            fit.append(initial)\n",
    "    return fit"
   ]
  },
  {
   "cell_type": "code",
   "execution_count": 469,
   "metadata": {},
   "outputs": [
    {
     "data": {
      "image/png": "[encoded data removed]",
      "text/plain": [
       "<Figure size 432x288 with 1 Axes>"
      ]
     },
     "metadata": {
      "needs_background": "light"
     },
     "output_type": "display_data"
    }
   ],
   "source": [
    "def plot_hillclimber(values, genotypes, mutation_rates, hillclimbers, knapsack):\n",
    "    generations=[]\n",
    "    for i in range(hillclimbers):\n",
    "        generations.append(i)\n",
    "    \n",
    "    for i in range(len(mutation_rates)):\n",
    "        fit = []\n",
    "        fitnesses = fitness(values,genotypes,mutation_rates[i],hillclimbers,knapsack)\n",
    "        for f in fitnesses:\n",
    "            fit.append(f[0])\n",
    "        plt.suptitle('Fitness vs Generations', fontsize=16)\n",
    "        plt.ylabel('Generations', fontsize=12)\n",
    "        plt.xlabel('Fitness', fontsize=12)\n",
    "        plt.plot(generations,fit)\n",
    "plot_hillclimber(values,genotypes,[0.3,0.4,0.5,.66,.23,.12,.54,.57,1,.13,.14,.03,.15],500,20)"
   ]
  },
  {
   "cell_type": "code",
   "execution_count": null,
   "metadata": {},
   "outputs": [],
   "source": [
    "from itertools import combinations\n",
    "\n",
    "\n",
    "def brute_force(number, capacity, weight_cost):\n",
    "    \"\"\"Brute force method for solving knapsack problem\n",
    "    :param number: number of existing items\n",
    "    :param capacity: the capacity of knapsack\n",
    "    :param weight_cost: list of tuples like: [(weight, cost), (weight, cost), ...]\n",
    "    :return: tuple like: (best cost, best combination list(contains 1 and 0))\n",
    "    \"\"\"\n",
    "    best_cost = None\n",
    "    best_combination = []\n",
    "    # generating combinations by all ways: C by 1 from n, C by 2 from n, ...\n",
    "    for way in range(number):\n",
    "        for comb in combinations(weight_cost, way + 1):\n",
    "            weight = sum([wc[0] for wc in comb])\n",
    "            cost = sum([wc[1] for wc in comb])\n",
    "            if (best_cost is None or best_cost < cost) and weight <= capacity:\n",
    "                best_cost = cost\n",
    "                best_combination = [0] * number\n",
    "                for wc in comb:\n",
    "                    best_combination[weight_cost.index(wc)] = 1\n",
    "    return best_cost, best_combination"
   ]
  },
  {
   "cell_type": "markdown",
   "metadata": {},
   "source": [
    "# Brute force method to find the best combination"
   ]
  },
  {
   "cell_type": "code",
   "execution_count": 587,
   "metadata": {},
   "outputs": [],
   "source": [
    "values2 = [[5,3],[6,2],[1,4],[9,5],[2,8],[8,9],[4,10],[3,1],[7,6],[10,7]]"
   ]
  },
  {
   "cell_type": "code",
   "execution_count": 588,
   "metadata": {},
   "outputs": [],
   "source": [
    "def brute_force(itemsNo,knapsack,values):\n",
    "    best_cost = 0\n",
    "    best_combination = []\n",
    "    #for pop in range(populationSize):\n",
    "    for way in range(itemsNo):\n",
    "        for comb in combinations(values,way+1):\n",
    "            weight = sum([w[1] for w in comb])\n",
    "            benefit = sum(b[0] for b in comb)\n",
    "            if (best_cost < benefit) and weight <= knapsack:\n",
    "                best_cost = benefit\n",
    "                best_combination = [0]*itemsNo\n",
    "                for bw in comb:\n",
    "                    best_combination[values.index(bw)] = 1\n",
    "    return best_cost,best_combination"
   ]
  },
  {
   "cell_type": "code",
   "execution_count": 589,
   "metadata": {},
   "outputs": [
    {
     "data": {
      "text/plain": [
       "(33, [1, 1, 0, 1, 0, 0, 0, 1, 0, 1])"
      ]
     },
     "execution_count": 589,
     "metadata": {},
     "output_type": "execute_result"
    }
   ],
   "source": [
    "brute_force(10,20,values2)"
   ]
  },
  {
   "cell_type": "markdown",
   "metadata": {},
   "source": [
    "# For different population sizes"
   ]
  },
  {
   "cell_type": "code",
   "execution_count": 471,
   "metadata": {},
   "outputs": [],
   "source": [
    "populationSize = 100"
   ]
  },
  {
   "cell_type": "code",
   "execution_count": 475,
   "metadata": {},
   "outputs": [],
   "source": [
    "numOfItems = len(values)"
   ]
  },
  {
   "cell_type": "code",
   "execution_count": 477,
   "metadata": {},
   "outputs": [
    {
     "data": {
      "text/plain": [
       "10"
      ]
     },
     "execution_count": 477,
     "metadata": {},
     "output_type": "execute_result"
    }
   ],
   "source": [
    "numOfItems"
   ]
  },
  {
   "cell_type": "code",
   "execution_count": 501,
   "metadata": {},
   "outputs": [],
   "source": [
    "# each row is a population\n",
    "popGenotypes = np.random.randint(0,2,size=(populationSize,numOfItems))"
   ]
  },
  {
   "cell_type": "code",
   "execution_count": 508,
   "metadata": {},
   "outputs": [
    {
     "data": {
      "text/plain": [
       "(100, 10)"
      ]
     },
     "execution_count": 508,
     "metadata": {},
     "output_type": "execute_result"
    }
   ],
   "source": [
    "popGenotypes.shape"
   ]
  },
  {
   "cell_type": "code",
   "execution_count": 509,
   "metadata": {},
   "outputs": [],
   "source": [
    "# Mutation for changing the 1's and 0's in a population\n",
    "def pop_mutation(pop_genotypes,mutation_rate,populationSize):\n",
    "    for p in range(populationSize):\n",
    "        for i in range(0,10):\n",
    "            n = np.random.rand()\n",
    "            #print(n)\n",
    "            if n <= mutation_rate:\n",
    "                if pop_genotypes[p][i] == 1:\n",
    "                    pop_genotypes[p][i] = 0\n",
    "                else:\n",
    "                    pop_genotypes[p][i] = 1\n",
    "    return pop_genotypes"
   ]
  },
  {
   "cell_type": "code",
   "execution_count": 510,
   "metadata": {},
   "outputs": [],
   "source": [
    "# Test it\n",
    "test = pop_mutation(popGenotypes,0.2,populationSize)"
   ]
  },
  {
   "cell_type": "code",
   "execution_count": 512,
   "metadata": {},
   "outputs": [],
   "source": [
    "# index[i][0] is the benefit, index[i][1] is the volume, where i = item\n",
    "values = np.array([[5,3],[6,2],[1,4],[9,5],[2,8],[8,9],[4,10],[3,1],[7,6],[10,7]])"
   ]
  },
  {
   "cell_type": "code",
   "execution_count": 518,
   "metadata": {},
   "outputs": [
    {
     "data": {
      "text/plain": [
       "[3, 2, 4, 5, 8, 9, 10, 1, 6, 7]"
      ]
     },
     "execution_count": 518,
     "metadata": {},
     "output_type": "execute_result"
    }
   ],
   "source": [
    "weights = []\n",
    "for i in range(values.shape[0]):\n",
    "    weights.append(values[i][1])\n",
    "weights"
   ]
  },
  {
   "cell_type": "code",
   "execution_count": 520,
   "metadata": {},
   "outputs": [
    {
     "data": {
      "text/plain": [
       "[5, 6, 1, 9, 2, 8, 4, 3, 7, 10]"
      ]
     },
     "execution_count": 520,
     "metadata": {},
     "output_type": "execute_result"
    }
   ],
   "source": [
    "benefits = []\n",
    "for i in range(values.shape[0]):\n",
    "    benefits.append(values[i][0])\n",
    "benefits"
   ]
  },
  {
   "cell_type": "code",
   "execution_count": 526,
   "metadata": {},
   "outputs": [],
   "source": [
    "# If the item is in the knapsack (1), add it to the list. If not (0), do nothing.\n",
    "def itemsInKnapsack(populationSize,values,genotypes):\n",
    "    items = []\n",
    "    no = []\n",
    "    for i in range(100):\n",
    "        for p in range(0,10):\n",
    "            if popGenotypes[i][p] == 1:\n",
    "                items.append(popGenotypes[i][p])\n",
    "            else:\n",
    "                no.append(popGenotypes[i][p])\n",
    "    return items"
   ]
  },
  {
   "cell_type": "code",
   "execution_count": 551,
   "metadata": {},
   "outputs": [],
   "source": [
    "values2 = [[5,3],[6,2],[1,4],[9,5],[2,8],[8,9],[4,10],[3,1],[7,6],[10,7]]"
   ]
  },
  {
   "cell_type": "code",
   "execution_count": 577,
   "metadata": {},
   "outputs": [],
   "source": [
    "def brute_force(itemsNo,knapsack,weight_cost):\n",
    "    best_cost = 0\n",
    "    best_combination = []\n",
    "    #for pop in range(populationSize):\n",
    "    for way in range(itemsNo):\n",
    "        for comb in combinations(weight_cost,way+1):\n",
    "            weight = sum([w[1] for w in comb])\n",
    "            benefit = sum(b[0] for b in comb)\n",
    "            if (best_cost < benefit) and weight <= knapsack:\n",
    "                best_cost = benefit\n",
    "                best_combination = [0]*itemsNo\n",
    "                for bw in comb:\n",
    "                    best_combination[weight_cost.index(bw)] = 1\n",
    "    return best_cost,best_combination"
   ]
  },
  {
   "cell_type": "code",
   "execution_count": 578,
   "metadata": {},
   "outputs": [
    {
     "data": {
      "text/plain": [
       "(33, [1, 1, 0, 1, 0, 0, 0, 1, 0, 1])"
      ]
     },
     "execution_count": 578,
     "metadata": {},
     "output_type": "execute_result"
    }
   ],
   "source": [
    "brute_force(10,20,values2)"
   ]
  },
  {
   "cell_type": "code",
   "execution_count": null,
   "metadata": {},
   "outputs": [],
   "source": []
  },
  {
   "cell_type": "code",
   "execution_count": null,
   "metadata": {},
   "outputs": [],
   "source": []
  }
 ],
 "metadata": {
  "kernelspec": {
   "display_name": "Python 3",
   "language": "python",
   "name": "python3"
  },
  "language_info": {
   "codemirror_mode": {
    "name": "ipython",
    "version": 3
   },
   "file_extension": ".py",
   "mimetype": "text/x-python",
   "name": "python",
   "nbconvert_exporter": "python",
   "pygments_lexer": "ipython3",
   "version": "3.7.4"
  }
 },
 "nbformat": 4,
 "nbformat_minor": 4
}
