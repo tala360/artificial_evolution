{
 "cells": [
  {
   "cell_type": "markdown",
   "metadata": {},
   "source": [
    "## Spatial GA"
   ]
  },
  {
   "cell_type": "markdown",
   "metadata": {},
   "source": [
    "1.Initialise random pop P </br>\n",
    "2.Associate each individual with a position x, i.e, let the position of the genotype in thepopulation array indicate the position on a 1D grid.</br>\n",
    "3.Pick one individual at random, i.e. genotype G1 at position  x1</br>\n",
    "4.Pick a second individual G2 in the local neighbourhood of the first, i.e., pick acompetitor from the local neighbourhood in the range x1 to x1+k. Or see code inlecture for simpler implementation</br>\n",
    "5.Compare G1 and G2 finding a winner (W) and loser (L)</br>\n",
    "6.Copy W over L and add a mutation (remember to reevaluate the fitness of the loser)</br>\n",
    "7.Until success or give up, goto 3</br>"
   ]
  },
  {
   "cell_type": "code",
   "execution_count": 19,
   "metadata": {},
   "outputs": [],
   "source": [
    "import numpy as np\n",
    "import matplotlib.pyplot as plt \n",
    "from random import randint"
   ]
  },
  {
   "cell_type": "code",
   "execution_count": 20,
   "metadata": {},
   "outputs": [],
   "source": [
    "knapsack = 20\n",
    "weights = [3,2,4,5,8,9,10,1,6,7]\n",
    "benefits = [5,6,1,9,2,8,4,3,7,10]"
   ]
  },
  {
   "cell_type": "code",
   "execution_count": 21,
   "metadata": {},
   "outputs": [],
   "source": [
    "def fitness_genotype(genotype,benefits,weights,knapsack):\n",
    "    totalWeight = np.dot(genotype,weights)\n",
    "    totalBenefits = np.dot(genotype,benefits)\n",
    "    if totalWeight > knapsack:\n",
    "        return 0\n",
    "    else:\n",
    "        return totalBenefits"
   ]
  },
  {
   "cell_type": "code",
   "execution_count": 22,
   "metadata": {},
   "outputs": [],
   "source": [
    "def fitness(population,benefits,weights,popSize,knapsack):\n",
    "    fitnesses = []\n",
    "    for i in range(popSize):\n",
    "        if np.dot(population[i],weights)>knapsack:\n",
    "            fitnesses.append(0)\n",
    "        else:\n",
    "            fitnesses.append((np.dot(population[i],benefits)))\n",
    "    return fitnesses"
   ]
  },
  {
   "cell_type": "code",
   "execution_count": 145,
   "metadata": {},
   "outputs": [],
   "source": [
    "def mutation_genotype(genotype,mutation_rate):\n",
    "    for i,gene in enumerate(genotype):\n",
    "        n = np.random.rand()\n",
    "        #print(n)\n",
    "        if n <= mutation_rate:\n",
    "            r = randint(0,9)\n",
    "            if genotype[r] == 1:\n",
    "                genotype[r] = 0\n",
    "            else:\n",
    "                genotype[r] = 1\n",
    "    return genotype"
   ]
  },
  {
   "cell_type": "code",
   "execution_count": 158,
   "metadata": {},
   "outputs": [],
   "source": [
    "population = np.random.randint(0,2,size=(200,10))\n",
    "k = 10"
   ]
  },
  {
   "cell_type": "code",
   "execution_count": 159,
   "metadata": {},
   "outputs": [],
   "source": [
    "maxFitness = [0]\n",
    "for i in range(1000):\n",
    "    randomIndex1 = randint(k+1,(population.shape[0]-1)-k)\n",
    "    randomIndex2 = randint(randomIndex1-k,randomIndex1+k)\n",
    "    #print(randomIndex1)\n",
    "    genotype1 = population[randomIndex1]\n",
    "    genotype2 = population[randomIndex2]\n",
    "    #print(genotype1)\n",
    "    fitnessG1 = fitness_genotype(genotype1,benefits,weights,knapsack)\n",
    "    #print(fitnessG1)\n",
    "    fitnessG2 = fitness_genotype(genotype2,benefits,weights,knapsack)\n",
    "    #print(fitnessG2)\n",
    "    if fitnessG1 > fitnessG2:\n",
    "        #tempG2 = genotype2\n",
    "        genotype2 = genotype1\n",
    "        population[randomIndex2] = mutation_genotype(genotype2,0.2)\n",
    "    elif fitnessG2 > fitnessG1:\n",
    "        #tempG1 = genotype1\n",
    "        genotype1 = genotype2\n",
    "        population[randomIndex1] = mutation_genotype(genotype1,0.2)\n",
    "    popFitness = fitness(population,benefits,weights,200,knapsack)\n",
    "    maxFitness.append(max(popFitness))"
   ]
  },
  {
   "cell_type": "code",
   "execution_count": 160,
   "metadata": {},
   "outputs": [
    {
     "data": {
      "image/png": "[encoded data removed]",
      "text/plain": [
       "<Figure size 432x288 with 1 Axes>"
      ]
     },
     "metadata": {
      "needs_background": "light"
     },
     "output_type": "display_data"
    }
   ],
   "source": [
    "plt.plot(list(range(1001)),maxFitness)\n",
    "plt.suptitle('Fitness vs Generations', fontsize=16)\n",
    "plt.ylabel('Fitness', fontsize=12)\n",
    "plt.xlabel('Generations', fontsize=12)\n",
    "plt.savefig('SPA.png')\n",
    "plt.show()"
   ]
  },
  {
   "cell_type": "code",
   "execution_count": null,
   "metadata": {},
   "outputs": [],
   "source": []
  },
  {
   "cell_type": "code",
   "execution_count": null,
   "metadata": {},
   "outputs": [],
   "source": []
  }
 ],
 "metadata": {
  "kernelspec": {
   "display_name": "Python 3",
   "language": "python",
   "name": "python3"
  },
  "language_info": {
   "codemirror_mode": {
    "name": "ipython",
    "version": 3
   },
   "file_extension": ".py",
   "mimetype": "text/x-python",
   "name": "python",
   "nbconvert_exporter": "python",
   "pygments_lexer": "ipython3",
   "version": "3.7.4"
  }
 },
 "nbformat": 4,
 "nbformat_minor": 4
}
